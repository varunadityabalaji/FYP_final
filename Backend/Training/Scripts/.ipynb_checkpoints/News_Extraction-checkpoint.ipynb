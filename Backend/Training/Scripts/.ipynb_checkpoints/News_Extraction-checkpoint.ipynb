{
 "cells": [
  {
   "cell_type": "code",
   "execution_count": 215,
   "id": "624cc0b0",
   "metadata": {},
   "outputs": [],
   "source": [
    "from selenium import webdriver\n",
    "from selenium.webdriver.common.keys import Keys\n",
    "import pandas as pd\n",
    "import time"
   ]
  },
  {
   "cell_type": "code",
   "execution_count": 216,
   "id": "fd206282",
   "metadata": {},
   "outputs": [
    {
     "name": "stderr",
     "output_type": "stream",
     "text": [
      "/var/folders/8y/6j0y5pg92ng64xbpn5hywscc0000gn/T/ipykernel_13507/2299280398.py:1: DeprecationWarning: executable_path has been deprecated, please pass in a Service object\n",
      "  driver = webdriver.Chrome('./chromedriver')\n"
     ]
    }
   ],
   "source": [
    "driver = webdriver.Chrome('./chromedriver')"
   ]
  },
  {
   "cell_type": "code",
   "execution_count": 217,
   "id": "61e33a3a",
   "metadata": {},
   "outputs": [],
   "source": [
    "ticker_list = ['apple','amazon','microsoft','meta','broadcom','google','alphabet','tesla','cisco','nvidia']"
   ]
  },
  {
   "cell_type": "code",
   "execution_count": 218,
   "id": "384ddb59",
   "metadata": {},
   "outputs": [],
   "source": [
    "#launch the reuters page\n",
    "driver.get(\"https://www.reuters.com/news/archive/marketsNews\")"
   ]
  },
  {
   "cell_type": "code",
   "execution_count": 219,
   "id": "69a3715c",
   "metadata": {},
   "outputs": [
    {
     "name": "stderr",
     "output_type": "stream",
     "text": [
      "/var/folders/8y/6j0y5pg92ng64xbpn5hywscc0000gn/T/ipykernel_13507/2550509588.py:3: DeprecationWarning: find_element_by_* commands are deprecated. Please use find_element() instead\n",
      "  driver.find_element_by_xpath('/html/body/nav/div/ul/li[12]/div').click()\n",
      "/var/folders/8y/6j0y5pg92ng64xbpn5hywscc0000gn/T/ipykernel_13507/2550509588.py:4: DeprecationWarning: find_element_by_* commands are deprecated. Please use find_element() instead\n",
      "  driver.find_element_by_xpath('/html/body/nav/div/div[2]/form/input[1]').send_keys(t)\n",
      "/var/folders/8y/6j0y5pg92ng64xbpn5hywscc0000gn/T/ipykernel_13507/2550509588.py:5: DeprecationWarning: find_element_by_* commands are deprecated. Please use find_element() instead\n",
      "  driver.find_element_by_xpath('/html/body/nav/div/div[2]/form/input[1]').send_keys(Keys.ENTER)\n",
      "/var/folders/8y/6j0y5pg92ng64xbpn5hywscc0000gn/T/ipykernel_13507/2550509588.py:12: DeprecationWarning: find_element_by_* commands are deprecated. Please use find_element() instead\n",
      "  driver.find_element_by_xpath('/html/body/div[4]/section[2]/div/div[1]/div[4]/div/div[4]/div[1]').click()\n",
      "/var/folders/8y/6j0y5pg92ng64xbpn5hywscc0000gn/T/ipykernel_13507/2550509588.py:15: DeprecationWarning: find_elements_by_* commands are deprecated. Please use find_elements() instead\n",
      "  all_divs = driver.find_elements_by_class_name('search-result-indiv')\n",
      "/Users/varun/miniforge3/envs/fyp/lib/python3.9/site-packages/selenium/webdriver/remote/webelement.py:446: UserWarning: find_element_by_* commands are deprecated. Please use find_element() instead\n",
      "  warnings.warn(\"find_element_by_* commands are deprecated. Please use find_element() instead\")\n"
     ]
    },
    {
     "name": "stdout",
     "output_type": "stream",
     "text": [
      "1877\n"
     ]
    },
    {
     "name": "stderr",
     "output_type": "stream",
     "text": [
      "/Users/varun/miniforge3/envs/fyp/lib/python3.9/site-packages/selenium/webdriver/remote/webelement.py:341: UserWarning: find_element_by_* commands are deprecated. Please use find_element() instead\n",
      "  warnings.warn(\"find_element_by_* commands are deprecated. Please use find_element() instead\")\n",
      "/var/folders/8y/6j0y5pg92ng64xbpn5hywscc0000gn/T/ipykernel_13507/2550509588.py:44: DeprecationWarning: find_element_by_* commands are deprecated. Please use find_element() instead\n",
      "  driver.find_element_by_xpath('/html/body/nav/div/ul/li[12]/div').click()\n",
      "/var/folders/8y/6j0y5pg92ng64xbpn5hywscc0000gn/T/ipykernel_13507/2550509588.py:45: DeprecationWarning: find_element_by_* commands are deprecated. Please use find_element() instead\n",
      "  driver.find_element_by_xpath('/html/body/nav/div/div[2]/form/input[1]').send_keys(unwanted_search_query)\n",
      "/var/folders/8y/6j0y5pg92ng64xbpn5hywscc0000gn/T/ipykernel_13507/2550509588.py:46: DeprecationWarning: find_element_by_* commands are deprecated. Please use find_element() instead\n",
      "  driver.find_element_by_xpath('/html/body/nav/div/div[2]/form/input[1]').send_keys(Keys.ENTER)\n",
      "/var/folders/8y/6j0y5pg92ng64xbpn5hywscc0000gn/T/ipykernel_13507/2550509588.py:52: DeprecationWarning: find_element_by_* commands are deprecated. Please use find_element() instead\n",
      "  driver.find_element_by_xpath('/html/body/div[4]/section[2]/div/div[1]/div[4]/div/div[4]/div[1]').click()\n",
      "/var/folders/8y/6j0y5pg92ng64xbpn5hywscc0000gn/T/ipykernel_13507/2550509588.py:55: DeprecationWarning: find_elements_by_* commands are deprecated. Please use find_elements() instead\n",
      "  all_divs = driver.find_elements_by_class_name('search-result-indiv')\n",
      "/Users/varun/miniforge3/envs/fyp/lib/python3.9/site-packages/selenium/webdriver/remote/webelement.py:446: UserWarning: find_element_by_* commands are deprecated. Please use find_element() instead\n",
      "  warnings.warn(\"find_element_by_* commands are deprecated. Please use find_element() instead\")\n",
      "/Users/varun/miniforge3/envs/fyp/lib/python3.9/site-packages/selenium/webdriver/remote/webelement.py:341: UserWarning: find_element_by_* commands are deprecated. Please use find_element() instead\n",
      "  warnings.warn(\"find_element_by_* commands are deprecated. Please use find_element() instead\")\n"
     ]
    },
    {
     "name": "stdout",
     "output_type": "stream",
     "text": [
      "970\n"
     ]
    },
    {
     "name": "stderr",
     "output_type": "stream",
     "text": [
      "/var/folders/8y/6j0y5pg92ng64xbpn5hywscc0000gn/T/ipykernel_13507/2550509588.py:66: FutureWarning: The frame.append method is deprecated and will be removed from pandas in a future version. Use pandas.concat instead.\n",
      "  df_final = df.append(df1)\n"
     ]
    }
   ],
   "source": [
    "for t in ticker_list:\n",
    "    #click on the search icon and fill in stock ticker details\n",
    "    driver.find_element_by_xpath('/html/body/nav/div/ul/li[12]/div').click()\n",
    "    driver.find_element_by_xpath('/html/body/nav/div/div[2]/form/input[1]').send_keys(t)\n",
    "    driver.find_element_by_xpath('/html/body/nav/div/div[2]/form/input[1]').send_keys(Keys.ENTER)\n",
    "\n",
    "    \n",
    "    if i!='cisco' and i!='broadcom':\n",
    "        #extracting the news\n",
    "        all_news = []\n",
    "        for i in range(300):\n",
    "            driver.find_element_by_xpath('/html/body/div[4]/section[2]/div/div[1]/div[4]/div/div[4]/div[1]').click()\n",
    "            time.sleep(1)\n",
    "\n",
    "        all_divs = driver.find_elements_by_class_name('search-result-indiv')\n",
    "        print(len(all_divs))\n",
    "\n",
    "\n",
    "        for i in range(len(all_divs)):\n",
    "            all_news.append(all_divs[i].find_element_by_class_name('search-result-content').find_element_by_class_name('search-result-title').find_element_by_tag_name('a').text)\n",
    "\n",
    "    else:\n",
    "        #extracting the news\n",
    "        all_news = []\n",
    "        for i in range(100):\n",
    "            driver.find_element_by_xpath('/html/body/div[4]/section[2]/div/div[1]/div[4]/div/div[4]/div[1]').click()\n",
    "            time.sleep(1)\n",
    "\n",
    "        all_divs = driver.find_elements_by_class_name('search-result-indiv')\n",
    "        print(len(all_divs))\n",
    "\n",
    "\n",
    "        for i in range(len(all_divs)):\n",
    "            all_news.append(all_divs[i].find_element_by_class_name('search-result-content').find_element_by_class_name('search-result-title').find_element_by_tag_name('a').text)\n",
    "\n",
    "\n",
    "        \n",
    "\n",
    "    #create the dataframe\n",
    "    all_labels = [1 for i in range(len(all_news))]\n",
    "    df = pd.DataFrame(data = list(zip(all_news,all_labels)) ,columns = ['News','Label'])\n",
    "\n",
    "    #saving the file\n",
    "    df.to_csv('../Training_Data/Category_Tagging/{ticker_name}.csv'.format(t))\n"
   ]
  },
  {
   "cell_type": "code",
   "execution_count": null,
   "id": "315fcc5b",
   "metadata": {},
   "outputs": [],
   "source": []
  },
  {
   "cell_type": "code",
   "execution_count": null,
   "id": "592077f5",
   "metadata": {},
   "outputs": [],
   "source": []
  }
 ],
 "metadata": {
  "kernelspec": {
   "display_name": "Python 3 (ipykernel)",
   "language": "python",
   "name": "python3"
  },
  "language_info": {
   "codemirror_mode": {
    "name": "ipython",
    "version": 3
   },
   "file_extension": ".py",
   "mimetype": "text/x-python",
   "name": "python",
   "nbconvert_exporter": "python",
   "pygments_lexer": "ipython3",
   "version": "3.9.10"
  }
 },
 "nbformat": 4,
 "nbformat_minor": 5
}
